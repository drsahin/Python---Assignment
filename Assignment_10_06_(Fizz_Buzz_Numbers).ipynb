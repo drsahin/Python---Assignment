{
  "nbformat": 4,
  "nbformat_minor": 0,
  "metadata": {
    "colab": {
      "name": "Assignment - 10/06 (Fizz - Buzz Numbers).ipynb",
      "provenance": [],
      "collapsed_sections": [],
      "authorship_tag": "ABX9TyPfnp7FkAM93ydvmZPN5540",
      "include_colab_link": true
    },
    "kernelspec": {
      "name": "python3",
      "display_name": "Python 3"
    },
    "language_info": {
      "name": "python"
    }
  },
  "cells": [
    {
      "cell_type": "markdown",
      "metadata": {
        "id": "view-in-github",
        "colab_type": "text"
      },
      "source": [
        "<a href=\"https://colab.research.google.com/github/drsahin/Python---Assignment/blob/main/Assignment_10_06_(Fizz_Buzz_Numbers).ipynb\" target=\"_parent\"><img src=\"https://colab.research.google.com/assets/colab-badge.svg\" alt=\"Open In Colab\"/></a>"
      ]
    },
    {
      "cell_type": "markdown",
      "metadata": {
        "id": "DrD2NyCuKYwc"
      },
      "source": [
        "Assignment - 10/06 (Fizz - Buzz Numbers)\n",
        "\n",
        "Task : Print the Fizz Buzz numbers.\n",
        "\n",
        "Fizz Buzz is a famous code challenge used in interviews to test basic programming skills. It's time to write your own implementation.\n",
        "\n",
        "Print numbers from 1 to 100 inclusively following these instructions:\n",
        "\n",
        "1-if a number is multiple of 3, print \"Fizz\" instead of this number,\n",
        "\n",
        "2-if a number is multiple of 5, print \"Buzz\" instead of this number,\n",
        "\n",
        "3-for numbers that are multiples of both 3 and 5, print \"FizzBuzz\",\n",
        "\n",
        "4-print the rest of the numbers unchanged.\n",
        "\n",
        "Output each value on a separate line."
      ]
    },
    {
      "cell_type": "code",
      "metadata": {
        "id": "mBkRBOz1KV9j"
      },
      "source": [
        "for i in range(1,101) :\n",
        "  if i%3 == 0 and i%5 != 0 :\n",
        "    print(\"Fizz\")\n",
        "  elif i%3 == 0 and i%5 == 0 :\n",
        "    print(\"FizzBuzz\")\n",
        "  elif i%3 != 0 and i%5 == 0 :\n",
        "    print(\"Buzz\")\n",
        "  else :\n",
        "    print(i)\n"
      ],
      "execution_count": null,
      "outputs": []
    }
  ]
}