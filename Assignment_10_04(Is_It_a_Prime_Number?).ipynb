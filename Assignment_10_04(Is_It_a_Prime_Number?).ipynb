{
  "nbformat": 4,
  "nbformat_minor": 0,
  "metadata": {
    "colab": {
      "name": "Assignment-10/04(Is It a Prime Number?).ipynb",
      "provenance": [],
      "collapsed_sections": [],
      "authorship_tag": "ABX9TyMzXHSihtybyjQ7GDzJzoyP",
      "include_colab_link": true
    },
    "kernelspec": {
      "name": "python3",
      "display_name": "Python 3"
    },
    "language_info": {
      "name": "python"
    }
  },
  "cells": [
    {
      "cell_type": "markdown",
      "metadata": {
        "id": "view-in-github",
        "colab_type": "text"
      },
      "source": [
        "<a href=\"https://colab.research.google.com/github/drsahin/Python---Assignment/blob/main/Assignment_10_04(Is_It_a_Prime_Number%3F).ipynb\" target=\"_parent\"><img src=\"https://colab.research.google.com/assets/colab-badge.svg\" alt=\"Open In Colab\"/></a>"
      ]
    },
    {
      "cell_type": "markdown",
      "metadata": {
        "id": "wXlMcwPZHobe"
      },
      "source": [
        "`**Assignment - 10/04 (Is It a Prime Number?)**`\n",
        "\n",
        "**Task** : Write a program that takes a number from the user      and prints the result to check if it is a prime number.\n",
        "\n",
        "The examples of the desired output are as follows :\n",
        "\n",
        "input →  19 ⇉ output : 19 is a prime number\n",
        "\n",
        "input →  10 ⇉ output : 10 is not a prime number"
      ]
    },
    {
      "cell_type": "code",
      "metadata": {
        "id": "wpcgIa69HhdF"
      },
      "source": [
        "n = int(input(\"Enter a positive number:\"))\n",
        "count = 0\n",
        "for i in range(2,n) :\n",
        "  if n % i == 0 :\n",
        "    count += 1\n",
        "if n==0 or n == 1 or count > 0 :\n",
        "  print(n, \"is not a prime number\")\n",
        "else :\n",
        "  print(n, \"is a prime number\")"
      ],
      "execution_count": null,
      "outputs": []
    }
  ]
}