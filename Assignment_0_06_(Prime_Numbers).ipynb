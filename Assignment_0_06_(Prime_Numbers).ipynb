{
  "nbformat": 4,
  "nbformat_minor": 0,
  "metadata": {
    "colab": {
      "name": "Assignment - 0/06 (Prime Numbers).ipynb",
      "provenance": [],
      "collapsed_sections": [],
      "authorship_tag": "ABX9TyOePLmiswINowqpKaVrSUAO",
      "include_colab_link": true
    },
    "kernelspec": {
      "name": "python3",
      "display_name": "Python 3"
    },
    "language_info": {
      "name": "python"
    }
  },
  "cells": [
    {
      "cell_type": "markdown",
      "metadata": {
        "id": "view-in-github",
        "colab_type": "text"
      },
      "source": [
        "<a href=\"https://colab.research.google.com/github/drsahin/Python---Assignment/blob/main/Assignment_0_06_(Prime_Numbers).ipynb\" target=\"_parent\"><img src=\"https://colab.research.google.com/assets/colab-badge.svg\" alt=\"Open In Colab\"/></a>"
      ]
    },
    {
      "cell_type": "markdown",
      "metadata": {
        "id": "tZ8LYqbpRQFK"
      },
      "source": [
        "Assignment - 0/06 (Prime Numbers)\n",
        "\n",
        "-Task : Print the prime numbers which are between 1 to entered limit number (n).\n",
        "\n",
        "    1.You can use a nested for loop.\n",
        "\n",
        "    2.Collect all these numbers into a list\n",
        "\n",
        "-The desired output for n=100 :\n",
        "\n",
        "[2, 3, 5, 7, 11, 13, 17, 19, 23, 29, 31, 37, 41, 43, 47, 53, 59,\n",
        "61, 67, 71, 73, 79, 83, 89, 97]\n"
      ]
    },
    {
      "cell_type": "code",
      "metadata": {
        "id": "3jc7jh0DQu-e",
        "colab": {
          "base_uri": "https://localhost:8080/"
        },
        "outputId": "0628865f-3410-42a3-91b2-f616f2f4b863"
      },
      "source": [
        "n = int(input(\"1'den büyük pozitif bir sayı giriniz:\"))\n",
        "liste =[]\n",
        "for i in range(1, n) :\n",
        "  count = 0\n",
        "  for j in range(1,i+1) :\n",
        "    if i%j==0 :\n",
        "      count +=1\n",
        "  if i != 1 and count <= 2 :\n",
        "    liste.append(i)          \n",
        "print(liste)      "
      ],
      "execution_count": 11,
      "outputs": [
        {
          "output_type": "stream",
          "name": "stdout",
          "text": [
            "1'den büyük pozitif bir sayı giriniz:100\n",
            "[2, 3, 5, 7, 11, 13, 17, 19, 23, 29, 31, 37, 41, 43, 47, 53, 59, 61, 67, 71, 73, 79, 83, 89, 97]\n"
          ]
        }
      ]
    }
  ]
}