{
  "nbformat": 4,
  "nbformat_minor": 0,
  "metadata": {
    "colab": {
      "name": "Assignment-10/02(Covid-19 Risk with If Statements).ipynb",
      "provenance": [],
      "collapsed_sections": [],
      "authorship_tag": "ABX9TyNysA/8Ji8AQyDmZWJNw+0a",
      "include_colab_link": true
    },
    "kernelspec": {
      "name": "python3",
      "display_name": "Python 3"
    },
    "language_info": {
      "name": "python"
    }
  },
  "cells": [
    {
      "cell_type": "markdown",
      "metadata": {
        "id": "view-in-github",
        "colab_type": "text"
      },
      "source": [
        "<a href=\"https://colab.research.google.com/github/drsahin/Python---Assignment/blob/main/Assignment_10_02(Covid_19_Risk_with_If_Statements).ipynb\" target=\"_parent\"><img src=\"https://colab.research.google.com/assets/colab-badge.svg\" alt=\"Open In Colab\"/></a>"
      ]
    },
    {
      "cell_type": "markdown",
      "metadata": {
        "id": "eBwAMcZw4NPF"
      },
      "source": [
        "Assignment - 10/02 (Covid-19 Risk with If Statements)\n",
        "\n",
        "Problem :\n",
        "\n",
        "-Task : Estimating the risk of death from coronavirus. Write a program that;\n",
        "\n",
        "-Takes \"Yes\" or \"No\" from the user as an answer to the following questions :\n",
        "\n",
        "-Are you a cigarette addict older than 75 years old? Variable → age\n",
        "\n",
        "-Do you have a severe chronic disease? Variable → chronic\n",
        "\n",
        "-Is your immune system too weak? Variable → immune\n",
        "\n",
        "Set a logical algorithm using boolean logic operators (and/or) and use if-statements with the given variables in order to print out us a message : \"You are in risky group\"(if True ) or \"You are not in risky group\" (if False).\n",
        "\n",
        "age =  # can be assigned only True/False\n",
        "\n",
        "chronic =  # can be assigned only True/False\n",
        "\n",
        "immune =  # can be assigned only True/False\n",
        "\n",
        "risk = ?"
      ]
    },
    {
      "cell_type": "code",
      "metadata": {
        "id": "V1Wb1Njf48wA"
      },
      "source": [
        "age = input(\"Are you a cigarette addict older than 75 years old? (Yes or No):\").title().strip()\n",
        "chronic = input(\"Do you have a severe chronic disease? (Yes or No) :\").title().strip()\n",
        "immune = input(\"Is your immune system too weak?(Yes or No) :\").title().strip()\n",
        "\n",
        "if age == \"Yes\" or chronic == \"Yes\" or immune == \"Yes\" :\n",
        "  print(\"You are  in risky group\")\n",
        "elif age == \"No\" and chronic == \"No\" and immune == \"No\" :\n",
        "  print(\"You are not in risky group\")\n",
        "else :\n",
        "  print (\"Enter answers are not Yes or No\")\n",
        "  \n",
        "\n",
        "  \n",
        "\n",
        "\n"
      ],
      "execution_count": null,
      "outputs": []
    }
  ]
}