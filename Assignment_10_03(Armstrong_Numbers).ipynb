{
  "nbformat": 4,
  "nbformat_minor": 0,
  "metadata": {
    "colab": {
      "name": "Assignment-10/03(Armstrong Numbers).ipynb",
      "provenance": [],
      "collapsed_sections": [],
      "authorship_tag": "ABX9TyPJVe1PaLcUZS90aiEH85hu",
      "include_colab_link": true
    },
    "kernelspec": {
      "name": "python3",
      "display_name": "Python 3"
    },
    "language_info": {
      "name": "python"
    }
  },
  "cells": [
    {
      "cell_type": "markdown",
      "metadata": {
        "id": "view-in-github",
        "colab_type": "text"
      },
      "source": [
        "<a href=\"https://colab.research.google.com/github/drsahin/Python---Assignment/blob/main/Assignment_10_03(Armstrong_Numbers).ipynb\" target=\"_parent\"><img src=\"https://colab.research.google.com/assets/colab-badge.svg\" alt=\"Open In Colab\"/></a>"
      ]
    },
    {
      "cell_type": "markdown",
      "metadata": {
        "id": "ialwHeYtFV6t"
      },
      "source": [
        "\n",
        "\n",
        "`Assignment - 10/03 (Armstrong Numbers)`\n",
        "\n",
        "**Task:**\n",
        "\n",
        "Find out if a given number is an \"Armstrong Number\".\n",
        "\n",
        "-An n-digit number that is the sum of the nth powers of its digits is called an n-Armstrong number. \n",
        "Examples :\n",
        "\n",
        "1-371 = 3 **\n",
        "3 + 7 **\n",
        "3 + 1 **\n",
        "3;\n",
        "\n",
        "2-9474 = 9 **\n",
        "4 + 4 **\n",
        "4 + 7 **\n",
        "4 + 4 **\n",
        "4;\n",
        "\n",
        "3-93084 = 9 **\n",
        "5 + 3 **\n",
        "5 + 0 **\n",
        "5 + 8 **\n",
        "5 + 4 **\n",
        "5.\n",
        "\n",
        "\n",
        "-Write a Python program that;\n",
        "\n",
        "1.takes a positive integer number from the user,\n",
        "\n",
        "2.checks the entered number if it is Armstrong,\n",
        "\n",
        "3.consider the negative, float and any entries other than \n",
        "numeric values then display a warning message to the user.\n",
        "\n",
        "Examples\n",
        "\n",
        "Sample inputs\t         \n",
        "Outputs\n",
        "\n",
        "407\t                   \n",
        "407 is an Armstrong number\n",
        "\n",
        "5\t                     \n",
        "5 is an Armstrong number\n",
        "\n",
        "-153\t                 \n",
        "It is an invalid entry. Don't use non-numeric, float, or negative values!\n",
        "\n",
        "153.87 or 153,87\t     \n",
        "It is an invalid entry. Don't use non-numeric, float, or negative values!\n",
        "\n",
        "\n",
        "one\t                   \n",
        "It is an invalid entry. Don't use non-numeric, float, or negative values!\n",
        "\n",
        " 121\t                 \n",
        " 121 is not an Armstrong number\n",
        "\n"
      ]
    },
    {
      "cell_type": "code",
      "metadata": {
        "id": "KWGpUScTFo6M"
      },
      "source": [
        "number = input(\"Enter a positive number:\")\n",
        "total = 0\n",
        "if not number.isdigit() :\n",
        "  print(\"It is an invalid entry. Don't use non-numeric, float, or negative values!\")\n",
        "elif int(number) >= 0 :\n",
        "  for i in number :\n",
        "    total += int(i) ** len(number)\n",
        "  if int(number) == total :\n",
        "    print(\" is an Armstrong number\")\n",
        "  else :\n",
        "    print(\" is not an Armstrong number\")"
      ],
      "execution_count": null,
      "outputs": []
    }
  ]
}