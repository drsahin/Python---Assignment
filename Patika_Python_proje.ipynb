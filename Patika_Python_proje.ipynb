{
  "nbformat": 4,
  "nbformat_minor": 0,
  "metadata": {
    "colab": {
      "name": "Patika_Python_proje.ipynb",
      "provenance": [],
      "collapsed_sections": [],
      "authorship_tag": "ABX9TyNIrSd7sAlcrbK8vtNKXWLN",
      "include_colab_link": true
    },
    "kernelspec": {
      "name": "python3",
      "display_name": "Python 3"
    },
    "language_info": {
      "name": "python"
    }
  },
  "cells": [
    {
      "cell_type": "markdown",
      "metadata": {
        "id": "view-in-github",
        "colab_type": "text"
      },
      "source": [
        "<a href=\"https://colab.research.google.com/github/drsahin/Python---Assignment/blob/main/Patika_Python_proje.ipynb\" target=\"_parent\"><img src=\"https://colab.research.google.com/assets/colab-badge.svg\" alt=\"Open In Colab\"/></a>"
      ]
    },
    {
      "cell_type": "markdown",
      "source": [
        "1- Bir listeyi düzleştiren (flatten) fonksiyon yazın. Elemanları birden çok katmanlı listelerden ([[3],2] gibi) oluşabileceği gibi, non-scalar verilerden de oluşabilir. Örnek olarak:\n",
        "\n",
        "input: [[1,'a',['cat'],2],[[[3]],'dog'],4,5]\n",
        "\n",
        "output: [1,'a','cat',2,3,'dog',4,5]"
      ],
      "metadata": {
        "id": "pu1wIA_H5C0D"
      }
    },
    {
      "cell_type": "code",
      "source": [
        "new_list = []\n",
        "def flatten(liste):\n",
        "  for i in liste :\n",
        "    if type(i) == list :\n",
        "      flatten(i)\n",
        "    else :\n",
        "      new_list.append(i)\n",
        "  return new_list\n",
        "flatten([[1,'a',['cat'],2],[[[3]],'dog'],4,5])    "
      ],
      "metadata": {
        "colab": {
          "base_uri": "https://localhost:8080/"
        },
        "id": "sovuD8q15Em2",
        "outputId": "ad0b94aa-7fb9-46aa-9995-aac0f0a2f9fe"
      },
      "execution_count": null,
      "outputs": [
        {
          "output_type": "execute_result",
          "data": {
            "text/plain": [
              "[1, 'a', 'cat', 2, 3, 'dog', 4, 5]"
            ]
          },
          "metadata": {},
          "execution_count": 17
        }
      ]
    },
    {
      "cell_type": "markdown",
      "source": [
        "2- Verilen listenin içindeki elemanları tersine döndüren bir fonksiyon yazın. Eğer listenin içindeki elemanlar da liste içeriyorsa onların elemanlarını da tersine döndürün. Örnek olarak:\n",
        "\n",
        "input: [[1, 2], [3, 4], [5, 6, 7]]\n",
        "\n",
        "output: [[7, 6, 5], [4, 3], [2, 1]]"
      ],
      "metadata": {
        "id": "4jyrwH5j5GUr"
      }
    },
    {
      "cell_type": "code",
      "source": [
        "def reverse(liste) :\n",
        "  liste.reverse()\n",
        "  for i in liste :\n",
        "    if type(i) == list :\n",
        "      i.reverse()\n",
        "  return print(liste)  \n",
        "reverse([[1, 2], [3, 4], [5, 6, 7]])"
      ],
      "metadata": {
        "colab": {
          "base_uri": "https://localhost:8080/"
        },
        "id": "LLXWnQO15JnR",
        "outputId": "0053595a-ec4e-40a6-f8e7-a6ad793092fb"
      },
      "execution_count": 21,
      "outputs": [
        {
          "output_type": "stream",
          "name": "stdout",
          "text": [
            "[[7, 6, 5], [4, 3], [2, 1]]\n"
          ]
        }
      ]
    }
  ]
}