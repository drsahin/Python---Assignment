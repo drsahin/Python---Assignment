{
  "nbformat": 4,
  "nbformat_minor": 0,
  "metadata": {
    "colab": {
      "name": "Assignment-10/05(Fibonacci Numbers).ipynb",
      "provenance": [],
      "collapsed_sections": [],
      "authorship_tag": "ABX9TyMR9DtHRKGQGIuh1jf1LG+9",
      "include_colab_link": true
    },
    "kernelspec": {
      "name": "python3",
      "display_name": "Python 3"
    },
    "language_info": {
      "name": "python"
    }
  },
  "cells": [
    {
      "cell_type": "markdown",
      "metadata": {
        "id": "view-in-github",
        "colab_type": "text"
      },
      "source": [
        "<a href=\"https://colab.research.google.com/github/drsahin/Python---Assignment/blob/main/Assignment_10_05(Fibonacci_Numbers).ipynb\" target=\"_parent\"><img src=\"https://colab.research.google.com/assets/colab-badge.svg\" alt=\"Open In Colab\"/></a>"
      ]
    },
    {
      "cell_type": "markdown",
      "metadata": {
        "id": "Bz8tBc-mhkNn"
      },
      "source": [
        "Assignment - 10/05 (Fibonacci Numbers)\n",
        "\n",
        "Task : Create a list consisting of Fibonacci numbers from 1 to 55 using control flow statements.\n",
        "\n",
        "The desired output is like :\n",
        "\n",
        "fibonacci →  [1, 1, 2, 3, 5, 8, 13, 21, 34, 55]"
      ]
    },
    {
      "cell_type": "code",
      "metadata": {
        "colab": {
          "base_uri": "https://localhost:8080/"
        },
        "id": "4TcvSwz1A_Ah",
        "outputId": "b22ef4c0-5e12-4142-d640-c251de17de0c"
      },
      "source": [
        "liste =[0,1] # Fibonacci Numbers 0 ve 1'den başlayarak önceki iki sayının toplamıdır. \n",
        "fibonacci =[1] # ilk elemanı 0+1= 1 dir. ve i > 1 için sıra başlar  ni = n(i-1)+n(i-2) bulunur.\n",
        "i = 2\n",
        "while fibonacci[-1] < 55 :\n",
        "  x = liste[i-1] + liste[i-2] \n",
        "  liste.append(x)\n",
        "  fibonacci.append(x)\n",
        "  i +=1\n",
        "print(fibonacci)\n",
        "\n"
      ],
      "execution_count": 2,
      "outputs": [
        {
          "output_type": "stream",
          "name": "stdout",
          "text": [
            "[1, 1, 2, 3, 5, 8, 13, 21, 34, 55]\n"
          ]
        }
      ]
    }
  ]
}