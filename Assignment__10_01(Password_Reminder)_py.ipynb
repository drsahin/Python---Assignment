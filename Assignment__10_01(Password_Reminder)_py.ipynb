{
  "nbformat": 4,
  "nbformat_minor": 5,
  "metadata": {
    "kernelspec": {
      "display_name": "Python 3 (ipykernel)",
      "language": "python",
      "name": "python3"
    },
    "language_info": {
      "codemirror_mode": {
        "name": "ipython",
        "version": 3
      },
      "file_extension": ".py",
      "mimetype": "text/x-python",
      "name": "python",
      "nbconvert_exporter": "python",
      "pygments_lexer": "ipython3",
      "version": "3.10.0"
    },
    "colab": {
      "name": "Assignment _10_01(Password Reminder).py.ipynb",
      "provenance": [],
      "include_colab_link": true
    }
  },
  "cells": [
    {
      "cell_type": "markdown",
      "metadata": {
        "id": "view-in-github",
        "colab_type": "text"
      },
      "source": [
        "<a href=\"https://colab.research.google.com/github/drsahin/Python---Assignment/blob/main/Assignment__10_01(Password_Reminder)_py.ipynb\" target=\"_parent\"><img src=\"https://colab.research.google.com/assets/colab-badge.svg\" alt=\"Open In Colab\"/></a>"
      ]
    },
    {
      "cell_type": "markdown",
      "metadata": {
        "id": "3e16f2ac"
      },
      "source": [
        "# Assignment - 10/01 (Password Reminder) \n",
        "\n",
        "Task : Let's say; you left a message in the past that prints a password you need. To see the password you wrote, you need to enter your name and the program should recognize you.\n",
        "\n",
        "Write a program that \n",
        "\n",
        "1.Takes the first name from the user and compares it to yours,\n",
        "\n",
        "2.Then if the name the user entered is the same as yours, print out such as : \"Hello, Joseph! The password is : W@12\",\n",
        "\n",
        "3.If the name the user entered is not the same as yours, print out such as : \"Hello, Amina! See you later.\"\n"
      ],
      "id": "3e16f2ac"
    },
    {
      "cell_type": "code",
      "metadata": {
        "id": "618db78f"
      },
      "source": [
        "name = \"dursun\"\n",
        "first_name = input(\"Please, Enter your first name :\").lower().strip()\n",
        "if name == first_name :\n",
        "    print(\"Hello, Dursun! The password is : drsahin55\")\n",
        "else:\n",
        "    print(\"Hello, {}! See you later.\".format(first_name.title()))\n"
      ],
      "id": "618db78f",
      "execution_count": null,
      "outputs": []
    },
    {
      "cell_type": "code",
      "metadata": {
        "id": "56042236"
      },
      "source": [
        ""
      ],
      "id": "56042236",
      "execution_count": null,
      "outputs": []
    },
    {
      "cell_type": "code",
      "metadata": {
        "id": "d2524bd5"
      },
      "source": [
        ""
      ],
      "id": "d2524bd5",
      "execution_count": null,
      "outputs": []
    }
  ]
}